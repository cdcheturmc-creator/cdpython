{
  "cells": [
    {
      "cell_type": "markdown",
      "metadata": {
        "id": "61KibMJ-6NRG"
      },
      "source": [
        "# Skill-Building with Advanced Collections (Voltron) (Starter)"
      ]
    },
    {
      "cell_type": "markdown",
      "metadata": {
        "id": "N1Am2Dm16NRJ"
      },
      "source": [
        "## Part A\n",
        "**Action:** Create a list called `lionColorsList` that contains the colors for The Lions (Blue, Yellow, Green, Red, Black)."
      ]
    },
    {
      "cell_type": "code",
      "execution_count": 65,
      "metadata": {
        "id": "SRv2Eppb6NRK"
      },
      "outputs": [],
      "source": [
        "# your implementation:\n",
        "\n",
        "lionColorsList = [\"Blue\", \"Yellow\", \"Green\", \"Red\", \"Black\"]"
      ]
    },
    {
      "cell_type": "markdown",
      "metadata": {
        "id": "xntlSta26NRK"
      },
      "source": [
        "**Action:** Print the value in `lionColorsList` to the screen."
      ]
    },
    {
      "cell_type": "code",
      "execution_count": 66,
      "metadata": {
        "colab": {
          "base_uri": "https://localhost:8080/"
        },
        "id": "gRsz4wwx6NRK",
        "outputId": "31d926df-34a3-4ada-8bd9-66323a4c8b5f"
      },
      "outputs": [
        {
          "output_type": "execute_result",
          "data": {
            "text/plain": [
              "['Blue', 'Yellow', 'Green', 'Red', 'Black']"
            ]
          },
          "metadata": {},
          "execution_count": 66
        }
      ],
      "source": [
        "# your implementation:\n",
        "\n",
        "lionColorsList"
      ]
    },
    {
      "cell_type": "markdown",
      "metadata": {
        "id": "jHoYJlwn6NRL"
      },
      "source": [
        "**Action:** Convert `lionColorsList` into tuple and assign the value to a new variable called `lionColorsTuple`."
      ]
    },
    {
      "cell_type": "code",
      "execution_count": 67,
      "metadata": {
        "id": "NUliKsgJ6NRL"
      },
      "outputs": [],
      "source": [
        "# your implementation:\n",
        "\n",
        "lionColorsTuple = tuple(lionColorsList)"
      ]
    },
    {
      "cell_type": "markdown",
      "metadata": {
        "id": "_RSaYw7X6NRL"
      },
      "source": [
        "**Action:** Print the value in `lionColorsTuple` to the screen."
      ]
    },
    {
      "cell_type": "code",
      "execution_count": 68,
      "metadata": {
        "colab": {
          "base_uri": "https://localhost:8080/"
        },
        "id": "f7fuoMo_6NRL",
        "outputId": "a1f9c726-b46d-49f5-c87f-35e008a1828c"
      },
      "outputs": [
        {
          "output_type": "stream",
          "name": "stdout",
          "text": [
            "('Blue', 'Yellow', 'Green', 'Red', 'Black')\n"
          ]
        }
      ],
      "source": [
        "# your implementation:\n",
        "\n",
        "# Action: Print the value in lionColorsTuple to the screen.\n",
        "print(lionColorsTuple)"
      ]
    },
    {
      "cell_type": "markdown",
      "metadata": {
        "id": "WwGkHnL86NRL"
      },
      "source": [
        "**Action:** Iterate over the items in `lionColorsTuple` in order to print each color on a separate line."
      ]
    },
    {
      "cell_type": "code",
      "execution_count": 69,
      "metadata": {
        "colab": {
          "base_uri": "https://localhost:8080/"
        },
        "id": "DLUQDz-t6NRL",
        "outputId": "e6b0ecb1-e10c-43b7-9a08-06adf720d2cb"
      },
      "outputs": [
        {
          "output_type": "stream",
          "name": "stdout",
          "text": [
            "Blue\n",
            "Yellow\n",
            "Green\n",
            "Red\n",
            "Black\n"
          ]
        }
      ],
      "source": [
        "# your implementation:\n",
        "\n",
        "# Action: Iterate over the items in lionColorsTuple in order to print each color on a separate line.\n",
        "for colors in lionColorsTuple:\n",
        "    print(colors)"
      ]
    },
    {
      "cell_type": "markdown",
      "metadata": {
        "id": "FhEjpG0U6NRM"
      },
      "source": [
        "## Part B\n",
        "\n",
        "Near the beginning of the show, Shiro becomes Paladin of the Black Lion and wears the matching Black uniform color.  This data is captured in the variables in the following cell:"
      ]
    },
    {
      "cell_type": "code",
      "execution_count": 70,
      "metadata": {
        "id": "X3bvRD9L6NRM"
      },
      "outputs": [],
      "source": [
        "# Black Paladin Data\n",
        "\n",
        "#Shiro information\n",
        "name = \"Shiro\"\n",
        "isPaladin = True\n",
        "uniformColor = lionColorsTuple [4]\n",
        "lionColor = lionColorsTuple [4]"
      ]
    },
    {
      "cell_type": "markdown",
      "metadata": {
        "id": "VZCjydOM6NRM"
      },
      "source": [
        "**Action:** Create a dictionary of key-value pairs based on the variables above and store in a variable called `blackPaladinData`.\n",
        "\n",
        "- For the key of each key-value pair, use the variable's name.\n",
        "- For the value of each key-value pair, reference the variable's value."
      ]
    },
    {
      "cell_type": "code",
      "execution_count": 71,
      "metadata": {
        "id": "b38SGaw36NRM"
      },
      "outputs": [],
      "source": [
        "# Your implementation:\n",
        "#Create a dictionary of key-value pairs based on the variables above and store in a variable called blackPaladinData\n",
        "blackPaladinData = {\"name\" : \"Shiro\", \"isPaladin\" : True, \"uniformColor\" : lionColorsTuple [4], \"lionColor\" : lionColorsTuple [4]}"
      ]
    },
    {
      "cell_type": "markdown",
      "metadata": {
        "id": "FZAXZctP6NRM"
      },
      "source": [
        "**Action:** Print out the entire dictionary in `blackPaladinData`."
      ]
    },
    {
      "cell_type": "code",
      "execution_count": 72,
      "metadata": {
        "colab": {
          "base_uri": "https://localhost:8080/"
        },
        "id": "8_WKmmaq6NRM",
        "outputId": "5f07a8b8-7dbb-45bc-c851-cab4c4e6e691"
      },
      "outputs": [
        {
          "output_type": "execute_result",
          "data": {
            "text/plain": [
              "{'name': 'Shiro',\n",
              " 'isPaladin': True,\n",
              " 'uniformColor': 'Black',\n",
              " 'lionColor': 'Black'}"
            ]
          },
          "metadata": {},
          "execution_count": 72
        }
      ],
      "source": [
        "# Your implementation:\n",
        "#Print out the entire dictionary in blackPaladinData\n",
        "blackPaladinData"
      ]
    },
    {
      "cell_type": "markdown",
      "metadata": {
        "id": "LVCYPaUQ6NRM"
      },
      "source": [
        "In Jupyter Notebook, you don't always need a print function for quick data dump; you can just write an expression on the last line of a code cell.\n",
        "\n",
        "**Action:** Print out the entire dictionary in `blackPaladinData` without using a print function."
      ]
    },
    {
      "cell_type": "code",
      "execution_count": 73,
      "metadata": {
        "colab": {
          "base_uri": "https://localhost:8080/"
        },
        "id": "x_MNdF5r6NRM",
        "outputId": "9c8cccad-04ad-41a5-d64a-d93f5fdfc61b"
      },
      "outputs": [
        {
          "output_type": "execute_result",
          "data": {
            "text/plain": [
              "{'name': 'Shiro',\n",
              " 'isPaladin': True,\n",
              " 'uniformColor': 'Black',\n",
              " 'lionColor': 'Black'}"
            ]
          },
          "metadata": {},
          "execution_count": 73
        }
      ],
      "source": [
        "# Your implementation:\n",
        "#Print out the entire dictionary in blackPaladinData without using a print function\n",
        "blackPaladinData"
      ]
    },
    {
      "cell_type": "markdown",
      "metadata": {
        "id": "NXT9xtOd6NRN"
      },
      "source": [
        "To keep track of Shiro's age, we need to add a new key-value pair to the `blackPaladinData` dictionary.\n",
        "\n",
        "Shiro is 25 years old.\n",
        "\n",
        "**Actions:**\n",
        "- Add a key named `age`.\n",
        "- Add an integer value `25`.\n",
        "- Print out the entire dictionary in `blackPaladinData` to verify if Shiro's age was added successfully."
      ]
    },
    {
      "cell_type": "code",
      "execution_count": 74,
      "metadata": {
        "colab": {
          "base_uri": "https://localhost:8080/"
        },
        "id": "QcL4AlV36NRN",
        "outputId": "da07eee4-721d-425b-b440-aa6667c0806c"
      },
      "outputs": [
        {
          "output_type": "execute_result",
          "data": {
            "text/plain": [
              "{'name': 'Shiro',\n",
              " 'isPaladin': True,\n",
              " 'uniformColor': 'Black',\n",
              " 'lionColor': 'Black',\n",
              " 'age': 25}"
            ]
          },
          "metadata": {},
          "execution_count": 74
        }
      ],
      "source": [
        "# Your implementation:\n",
        "#Add a key named age.\n",
        "#Add an integer value 25\n",
        "blackPaladinData[\"age\"] = 25\n",
        "\n",
        "#Print out the entire dictionary in blackPaladinData\n",
        "blackPaladinData"
      ]
    },
    {
      "cell_type": "markdown",
      "metadata": {
        "id": "1EKtHfmy6NRN"
      },
      "source": [
        "Later in the show, Shiro no longer pilots the Black Lion, but continues to wear the Black uniform color.\n",
        "\n",
        "**Actions:**\n",
        "\n",
        "- Change the value associated with the `isPaladin` key to `False`.\n",
        "- Change the value associated with the `lionColor` key to `None`.\n",
        "- Print out the entire dictionary in `blackPaladinData` to verify these changes were made successfully."
      ]
    },
    {
      "cell_type": "code",
      "execution_count": 75,
      "metadata": {
        "colab": {
          "base_uri": "https://localhost:8080/"
        },
        "id": "IYxRafym6NRN",
        "outputId": "343fa7d5-9999-4fb9-a1e1-b4ac506e9c7f"
      },
      "outputs": [
        {
          "output_type": "execute_result",
          "data": {
            "text/plain": [
              "{'name': 'Shiro',\n",
              " 'isPaladin': False,\n",
              " 'uniformColor': 'Black',\n",
              " 'lionColor': None,\n",
              " 'age': 25}"
            ]
          },
          "metadata": {},
          "execution_count": 75
        }
      ],
      "source": [
        "# Your implementation:\n",
        "blackPaladinData[\"isPaladin\"] = False\n",
        "blackPaladinData[\"lionColor\"] = None\n",
        "blackPaladinData"
      ]
    },
    {
      "cell_type": "markdown",
      "metadata": {
        "id": "JofH0GKt6NRO"
      },
      "source": [
        "**Actions:**\n",
        "\n",
        "- Write a conditional statement to check if the `blackPaladinData` dictionary contains a key called `isPaladin`.\n",
        "- If it does, print `The key 'isPaladin' is in the dictionary.`.\n",
        "- If it does not, print `The key 'isPaladin' is not in the dictionary.`."
      ]
    },
    {
      "cell_type": "code",
      "execution_count": 76,
      "metadata": {
        "colab": {
          "base_uri": "https://localhost:8080/"
        },
        "id": "zJT_tpCz6NRO",
        "outputId": "403d36af-27e1-4ef4-d7c0-67d6d6967ba3"
      },
      "outputs": [
        {
          "output_type": "stream",
          "name": "stdout",
          "text": [
            "The key 'isPaladin' is in the dictionary.\n"
          ]
        }
      ],
      "source": [
        "# Your implementation:\n",
        "# Write a conditional statement to check if the blackPaladinData dictionary contains a key called isPaladin\n",
        "if \"isPaladin\" in blackPaladinData:\n",
        "    print(\"The key 'isPaladin' is in the dictionary.\")\n",
        "else:\n",
        "    print(\"The key 'isPaladin' is not in the dictionary.\")"
      ]
    },
    {
      "cell_type": "markdown",
      "metadata": {
        "id": "C3Rp5fJR6NRO"
      },
      "source": [
        "A Bayard is the traditional weapon of a Voltron Paladin.\n",
        "\n",
        "We don't currently have any data on Shiro's Bayard stored in `blackPaladinData`.\n",
        "\n",
        "**Actions:**\n",
        "\n",
        "- Use the dictionary's `get` method to attempt to access the non-existent key `bayard` in `blackPaladinData`.\n",
        "- Print this value to the screen."
      ]
    },
    {
      "cell_type": "code",
      "execution_count": 77,
      "metadata": {
        "id": "SiogwFLD6NRO"
      },
      "outputs": [],
      "source": [
        "# Your implementation:\n",
        "# Use the dictionary's get method to attempt to access the non-existent key bayard in blackPaladinData\n",
        "blackPaladinData.get(\"bayard\")"
      ]
    },
    {
      "cell_type": "markdown",
      "metadata": {
        "id": "hYGmpsUy6NRO"
      },
      "source": [
        "**Actions:**\n",
        "\n",
        "- Use the dictionary's `get` method (again) to attempt to access the non-existent key `bayard` in `blackPaladinData`.\n",
        "- This time, specify a value of `Sword` as a default value for `bayard`.\n",
        "- Print this value to the screen."
      ]
    },
    {
      "cell_type": "code",
      "execution_count": 78,
      "metadata": {
        "colab": {
          "base_uri": "https://localhost:8080/",
          "height": 36
        },
        "id": "VI0jpxHj6NRO",
        "outputId": "a058d915-90d4-4d3d-a674-b658aa8db7dd"
      },
      "outputs": [
        {
          "output_type": "execute_result",
          "data": {
            "text/plain": [
              "'Sword'"
            ],
            "application/vnd.google.colaboratory.intrinsic+json": {
              "type": "string"
            }
          },
          "metadata": {},
          "execution_count": 78
        }
      ],
      "source": [
        "# Your implementation:\n",
        "#Use the dictionary's get method (again) to attempt to access the non-existent key bayard in blackPaladinData.\n",
        "#This time, specify a value of Sword as a default value for bayard\n",
        "blackPaladinData.get(\"bayard\", \"Sword\")"
      ]
    },
    {
      "cell_type": "markdown",
      "metadata": {
        "id": "EaIFGu3Y6NRP"
      },
      "source": [
        "When using a default value and the method `get`, does the `bayard`:`Sword` key-value pair get added to `blackPaladinData`?\n",
        "\n",
        "**Actions:**\n",
        "\n",
        "- Write a conditional statement to check if the `blackPaladinData` dictionary contains a key called `bayard`.\n",
        "- If it does, print `The key 'bayard' is in the dictionary.`.\n",
        "- If it does not, print `The key 'bayard' is not in the dictionary.`."
      ]
    },
    {
      "cell_type": "code",
      "execution_count": 79,
      "metadata": {
        "colab": {
          "base_uri": "https://localhost:8080/"
        },
        "id": "WmoPKBhB6NRP",
        "outputId": "24566f60-2b3b-44ab-c28f-a2adec89c986"
      },
      "outputs": [
        {
          "output_type": "stream",
          "name": "stdout",
          "text": [
            "The key 'bayard' is not in the dictionary\n"
          ]
        }
      ],
      "source": [
        "# Your implementation:\n",
        "# Write a conditional statement to check if the blackPaladinData dictionary contains a key called bayard\n",
        "if \"bayard\" in blackPaladinData:\n",
        "    print(\"The key 'bayard' is in the dictionary\")\n",
        "else:\n",
        "    print(\"The key 'bayard' is not in the dictionary\")"
      ]
    },
    {
      "cell_type": "markdown",
      "metadata": {
        "id": "oSIcn_D36NRP"
      },
      "source": [
        "**Actions:**\n",
        "\n",
        "- Remove the key-value pair for `uniformColor` from `blackPaladinData`.\n",
        "- Print out the entire dictionary in `blackPaladinData` to verify these changes were made successfully without using the print function."
      ]
    },
    {
      "cell_type": "code",
      "execution_count": 80,
      "metadata": {
        "colab": {
          "base_uri": "https://localhost:8080/"
        },
        "id": "kmhoCaV66NRP",
        "outputId": "1110b687-d734-43b6-c760-4259d891ebab"
      },
      "outputs": [
        {
          "output_type": "execute_result",
          "data": {
            "text/plain": [
              "{'name': 'Shiro', 'isPaladin': False, 'lionColor': None, 'age': 25}"
            ]
          },
          "metadata": {},
          "execution_count": 80
        }
      ],
      "source": [
        "# Your implementation:\n",
        "# Remove the key-value pair for uniformColor from blackPaladinData\n",
        "del blackPaladinData[\"uniformColor\"]\n",
        "blackPaladinData"
      ]
    },
    {
      "cell_type": "markdown",
      "metadata": {
        "id": "Kh1zlyt06NRP"
      },
      "source": [
        "## Part C\n",
        "**Action:** Execute the following code:"
      ]
    },
    {
      "cell_type": "code",
      "execution_count": 81,
      "metadata": {
        "editable": false,
        "id": "aiKU0jyf6NRP"
      },
      "outputs": [],
      "source": [
        "# create data dictionary for Lance\n",
        "\n",
        "bluePaladinData = {\n",
        "    \"name\": \"Lance\",\n",
        "    \"age\": 17,\n",
        "    \"isPaladin\": True,\n",
        "    \"uniformColor\": \"Blue\",\n",
        "    \"lionColor\": \"Blue\"\n",
        "}"
      ]
    },
    {
      "cell_type": "markdown",
      "metadata": {
        "id": "klFG48mj6NRP"
      },
      "source": [
        "**Action:** Using the `keys` method, iterate over the `bluePaladinData` dictionary's **keys** to print each **key** on a separate line."
      ]
    },
    {
      "cell_type": "code",
      "execution_count": 82,
      "metadata": {
        "colab": {
          "base_uri": "https://localhost:8080/"
        },
        "id": "m-UCEZAU6NRP",
        "outputId": "8180b983-626f-4599-a00a-4479ea5f153f"
      },
      "outputs": [
        {
          "output_type": "stream",
          "name": "stdout",
          "text": [
            "name\n",
            "age\n",
            "isPaladin\n",
            "uniformColor\n",
            "lionColor\n"
          ]
        }
      ],
      "source": [
        "# Your implementation:\n",
        "# Using the keys method, iterate over the bluePaladinData dictionary's keys to print each key on a separate line\n",
        "for key in bluePaladinData.keys():\n",
        "    print(key)"
      ]
    },
    {
      "cell_type": "markdown",
      "metadata": {
        "id": "OSZyoNln6NRQ"
      },
      "source": [
        "**Action:** Using the `values` method, iterate over the `bluePaladinData` dictionary's **values** to print each **value** on a separate line."
      ]
    },
    {
      "cell_type": "code",
      "execution_count": 83,
      "metadata": {
        "colab": {
          "base_uri": "https://localhost:8080/"
        },
        "id": "vA306Qtb6NRQ",
        "outputId": "bd5b8861-3aaa-4a19-937f-23c10e527481"
      },
      "outputs": [
        {
          "output_type": "stream",
          "name": "stdout",
          "text": [
            "Lance\n",
            "17\n",
            "True\n",
            "Blue\n",
            "Blue\n"
          ]
        }
      ],
      "source": [
        "# Your implementation:\n",
        "# Using the values method, iterate over the bluePaladinData dictionary's values to print each value on a separate line\n",
        "for value in bluePaladinData.values():\n",
        "    print(value)"
      ]
    },
    {
      "cell_type": "markdown",
      "metadata": {
        "id": "VMNWN-Xn6NRQ"
      },
      "source": [
        "**Action:** Using the `keys` method, iterate over the `bluePaladinData` dictionary's **keys** and print each **value** out on a separate line."
      ]
    },
    {
      "cell_type": "code",
      "execution_count": 84,
      "metadata": {
        "colab": {
          "base_uri": "https://localhost:8080/"
        },
        "id": "KjhJJbvG6NRR",
        "outputId": "c0c470a1-4352-4540-e915-92c2d8bf3335"
      },
      "outputs": [
        {
          "output_type": "stream",
          "name": "stdout",
          "text": [
            "Lance\n",
            "17\n",
            "True\n",
            "Blue\n",
            "Blue\n"
          ]
        }
      ],
      "source": [
        "# Your implementation:\n",
        "# Using the keys method, iterate over the bluePaladinData dictionary's keys and print each value out on a separate line\n",
        "for key in bluePaladinData.keys():\n",
        "    print(bluePaladinData[key])"
      ]
    },
    {
      "cell_type": "markdown",
      "metadata": {
        "id": "sHA9XvEZ6NRR"
      },
      "source": [
        "**Action:** Using the `items` method, iterate over the `bluePaladinData` dictionary's **keys** and **values**, and print each **key** and **value** out on a separate line."
      ]
    },
    {
      "cell_type": "code",
      "execution_count": 85,
      "metadata": {
        "colab": {
          "base_uri": "https://localhost:8080/"
        },
        "id": "a4VPYcRL6NRR",
        "outputId": "9d13914b-4639-4d95-ef74-f5d19166d8a3"
      },
      "outputs": [
        {
          "output_type": "stream",
          "name": "stdout",
          "text": [
            "name and Lance\n",
            "age and 17\n",
            "isPaladin and True\n",
            "uniformColor and Blue\n",
            "lionColor and Blue\n"
          ]
        }
      ],
      "source": [
        "# Your implementation:\n",
        "# Using the items method, iterate over the bluePaladinData dictionary's keys and values, and print each key and value out on a separate line\n",
        "for key, value in bluePaladinData.items():\n",
        "    print(key, \"and\", value)\n"
      ]
    },
    {
      "cell_type": "markdown",
      "metadata": {
        "id": "1yLfga286NRR"
      },
      "source": [
        "## Part D\n",
        "Now you are going to make a dictionary representing a larger set of structured data.\n",
        "\n",
        "It will be a \"dictionary of dictionaries\".\n",
        "\n",
        "Like any dictionary, the top-level dictionary will contain key-values pairs.  The key will be a lion color.  The value will be a dictionary containing additional key-value pairs for the Paladin who pilots that lion.\n",
        "\n",
        "**Action:** Create an empty dictionary called `lionsData`."
      ]
    },
    {
      "cell_type": "code",
      "execution_count": 86,
      "metadata": {
        "id": "JJN_L1_T6NRR"
      },
      "outputs": [],
      "source": [
        "# Your implementation:\n",
        "# Create an empty dictionary called lionsData\n",
        "lionsData = {}"
      ]
    },
    {
      "cell_type": "markdown",
      "metadata": {
        "id": "O1G7bCX46NRR"
      },
      "source": [
        "**Actions:**\n",
        "\n",
        "- Iterate over `lionColorsTuple` to create a key-value pair in `lionsData` for each color.\n",
        "- The key will be the color.\n",
        "- The value will be an empty dictionary.\n",
        "- After you are done iterating, print `lionsData` to the screen."
      ]
    },
    {
      "cell_type": "code",
      "execution_count": 87,
      "metadata": {
        "colab": {
          "base_uri": "https://localhost:8080/"
        },
        "id": "_lPcr0zi6NRR",
        "outputId": "653aca63-bfe1-4b4a-8976-e731f01f0f88"
      },
      "outputs": [
        {
          "output_type": "execute_result",
          "data": {
            "text/plain": [
              "{'Blue': {}, 'Yellow': {}, 'Green': {}, 'Red': {}, 'Black': {}}"
            ]
          },
          "metadata": {},
          "execution_count": 87
        }
      ],
      "source": [
        "# Your implementation:\n",
        "# Iterate over lionColorsTuple to create a key-value pair in lionsData for each color\n",
        "for color in lionColorsTuple:\n",
        "    lionsData[color] = {}\n",
        "\n",
        "lionsData"
      ]
    },
    {
      "cell_type": "markdown",
      "metadata": {
        "id": "AztH4jmd6NRR"
      },
      "source": [
        "**Actions:**\n",
        "- Add the following key-value pair to the `Blue` key in `lionsData`.\n",
        "    - key: `name`\n",
        "    - name: `Lance`\n",
        "- Print `lionsData` to the screen."
      ]
    },
    {
      "cell_type": "code",
      "execution_count": 88,
      "metadata": {
        "colab": {
          "base_uri": "https://localhost:8080/"
        },
        "id": "97eHPPgG6NRS",
        "outputId": "088f5bb6-2de9-43c4-dcc9-0e9dfe3b5fea"
      },
      "outputs": [
        {
          "output_type": "execute_result",
          "data": {
            "text/plain": [
              "{'Blue': {'name': 'Lance'}, 'Yellow': {}, 'Green': {}, 'Red': {}, 'Black': {}}"
            ]
          },
          "metadata": {},
          "execution_count": 88
        }
      ],
      "source": [
        "# Your implementation:\n",
        "# Add the following key-value pair to the Blue key in lionsData.\n",
        "# key: name\n",
        "# name: Lance\n",
        "lionsData [\"Blue\"][\"name\"] = \"Lance\"\n",
        "lionsData"
      ]
    },
    {
      "cell_type": "markdown",
      "metadata": {
        "id": "WGRGegL96NRS"
      },
      "source": [
        "**Actions:**\n",
        "\n",
        "- Add the following key-value pairs to the appropriate key in `lionsData`.\n",
        "    - For `Yellow`: key is `name`, value is `Hunk`\n",
        "    - For `Green`: key is `name`, value is `Pidge`\n",
        "    - For `Red`: key is `name`, value is `Keith`\n",
        "    - For `Black`: key is `name`, value is `Shiro`\n",
        "- Print `lionsData` to the screen."
      ]
    },
    {
      "cell_type": "code",
      "execution_count": 89,
      "metadata": {
        "colab": {
          "base_uri": "https://localhost:8080/"
        },
        "id": "X7VLCr_r6NRS",
        "outputId": "f96315d7-3c0d-4680-fb06-f1fc7ea656fe"
      },
      "outputs": [
        {
          "output_type": "execute_result",
          "data": {
            "text/plain": [
              "{'Blue': {'name': 'Lance'},\n",
              " 'Yellow': {'name': 'Hunk'},\n",
              " 'Green': {'name': 'Pidge'},\n",
              " 'Red': {'name': 'Keith'},\n",
              " 'Black': {'name': 'Shiro'}}"
            ]
          },
          "metadata": {},
          "execution_count": 89
        }
      ],
      "source": [
        "# Your implementation:\n",
        "#For Yellow: key is name, value is Hunk\n",
        "#For Green: key is name, value is Pidge\n",
        "#For Red: key is name, value is Keith\n",
        "#For Black: key is name, value is Shiro\n",
        "\n",
        "lionsData.update({\n",
        "    \"Yellow\": {\"name\": \"Hunk\"},\n",
        "    \"Green\" : {\"name\": \"Pidge\"},\n",
        "    \"Red\"   : {\"name\": \"Keith\"},\n",
        "    \"Black\" : {\"name\": \"Shiro\"}\n",
        "})\n",
        "\n",
        "lionsData"
      ]
    },
    {
      "cell_type": "markdown",
      "metadata": {
        "id": "qi6V7F3w6NRS"
      },
      "source": [
        "Let's add the uniform colors.\n",
        "\n",
        "**Actions:**\n",
        "\n",
        "- Add the following key-value pairs to the appropriate key in `lionsData`.\n",
        "    - For `Blue`: key is `uniformColor`, value is `Blue`\n",
        "    - For `Yellow`: key is `uniformColor`, value is `Yelow`\n",
        "    - For `Green`: key is `uniformColor`, value is `Green`\n",
        "    - For `Red`: key is `uniformColor`, value is `Red`\n",
        "    - For `Black`: key is `uniformColor`, value is `Black`\n",
        "- Print `lionsData` to the screen."
      ]
    },
    {
      "cell_type": "code",
      "execution_count": 90,
      "metadata": {
        "colab": {
          "base_uri": "https://localhost:8080/"
        },
        "id": "QBzt4Zi86NRS",
        "outputId": "c971c5ac-0522-4d32-cd00-defd56ce40e9"
      },
      "outputs": [
        {
          "output_type": "execute_result",
          "data": {
            "text/plain": [
              "{'Blue': {'name': 'Lance', 'uniformColor': 'Blue'},\n",
              " 'Yellow': {'name': 'Hunk', 'uniformColor': 'Yellow'},\n",
              " 'Green': {'name': 'Pidge', 'uniformColor': 'Green'},\n",
              " 'Red': {'name': 'Keith', 'uniformColor': 'Red'},\n",
              " 'Black': {'name': 'Shiro', 'uniformColor': 'Black'}}"
            ]
          },
          "metadata": {},
          "execution_count": 90
        }
      ],
      "source": [
        "# Your implementation:\n",
        "#For Blue: key is uniformColor, value is Blue\n",
        "#For Yellow: key is uniformColor, value is Yelow\n",
        "#For Green: key is uniformColor, value is Green\n",
        "#For Red: key is uniformColor, value is Red\n",
        "#For Black: key is uniformColor, value is Black\n",
        "\n",
        "for color in lionsData:\n",
        "    lionsData[color].update({\"uniformColor\": color})\n",
        "\n",
        "lionsData"
      ]
    },
    {
      "cell_type": "markdown",
      "metadata": {
        "id": "VZPOXx5a6NRS"
      },
      "source": [
        "During the show, some Paladins pilot different lions, while continuing to wear their original uniform color.\n",
        "\n",
        "- Keith pilots the Black Lion, but continues to wear the red uniform color.\n",
        "- Lance pilots the Red Lion, but continues to wear the blue uniform color.\n",
        "\n",
        "**Actions:**\n",
        "\n",
        "- Change the values for the Black Lion so that it is now piloted by Keith wearing a Red uniform.\n",
        "- Change the values for the Red Lion so that it is now piloted by Lance wearing a Blue uniform.\n",
        "- Print `lionsData` to the screen."
      ]
    },
    {
      "cell_type": "code",
      "execution_count": 91,
      "metadata": {
        "colab": {
          "base_uri": "https://localhost:8080/"
        },
        "id": "o0T-j4d36NRS",
        "outputId": "457873a8-282a-4805-b96e-38bc8d0a9461"
      },
      "outputs": [
        {
          "output_type": "execute_result",
          "data": {
            "text/plain": [
              "{'Blue': {'name': 'Lance', 'uniformColor': 'Blue'},\n",
              " 'Yellow': {'name': 'Hunk', 'uniformColor': 'Yellow'},\n",
              " 'Green': {'name': 'Pidge', 'uniformColor': 'Green'},\n",
              " 'Red': {'name': 'Lance', 'uniformColor': 'Blue'},\n",
              " 'Black': {'name': 'Keith', 'uniformColor': 'Red'}}"
            ]
          },
          "metadata": {},
          "execution_count": 91
        }
      ],
      "source": [
        "# Your implementation:\n",
        "# Change the values for the Black Lion so that it is now piloted by Keith wearing a Red uniform\n",
        "lionsData[\"Black\"].update({\n",
        "    \"name\": \"Keith\",\n",
        "    \"uniformColor\": \"Red\"\n",
        "})\n",
        "# Change the values for the Red Lion so that it is now piloted by Lance wearing a Blue uniform\n",
        "lionsData[\"Red\"].update({\n",
        "    \"name\": \"Lance\",\n",
        "    \"uniformColor\": \"Blue\"\n",
        "})\n",
        "lionsData"
      ]
    },
    {
      "cell_type": "markdown",
      "metadata": {
        "id": "h70Fc06U6NRT"
      },
      "source": [
        "During the show, some characters start being Paladins, wearing a new uniform color that does not match any lion.\n",
        "\n",
        "Now that Lance is piloting the Red Lion, we need Allura to pilot the Blue Lion.  Her uniform color is `Pink`.\n",
        "\n",
        "**Actions:**\n",
        "\n",
        "- Modify `lionsData` so that Allura pilots the Blue Lion while wearing a Pink uniform.\n",
        "- Print `lionsData` to the screen."
      ]
    },
    {
      "cell_type": "code",
      "execution_count": 92,
      "metadata": {
        "colab": {
          "base_uri": "https://localhost:8080/"
        },
        "id": "JYCuvx-H6NRT",
        "outputId": "53726257-9fa2-416c-8b28-83bedeecab5d"
      },
      "outputs": [
        {
          "output_type": "execute_result",
          "data": {
            "text/plain": [
              "{'Blue': {'name': 'Allura', 'uniformColor': 'Pink'},\n",
              " 'Yellow': {'name': 'Hunk', 'uniformColor': 'Yellow'},\n",
              " 'Green': {'name': 'Pidge', 'uniformColor': 'Green'},\n",
              " 'Red': {'name': 'Lance', 'uniformColor': 'Blue'},\n",
              " 'Black': {'name': 'Keith', 'uniformColor': 'Red'}}"
            ]
          },
          "metadata": {},
          "execution_count": 92
        }
      ],
      "source": [
        "# Your implementation:\n",
        "# Modify lionsData so that Allura pilots the Blue Lion while wearing a Pink uniform\n",
        "lionsData[\"Blue\"]={\n",
        "    \"name\": \"Allura\",\n",
        "    \"uniformColor\": \"Pink\"\n",
        "}\n",
        "lionsData"
      ]
    },
    {
      "cell_type": "markdown",
      "metadata": {
        "id": "smtNkwkE6NRT"
      },
      "source": [
        "## Part E\n",
        "\n",
        "**Action:** Iterate over `lionsData` to achieve the following output dynamically.  The order of the Lions does not matter.\n",
        "\n",
        "`Blue Lion: Allura (Pink Uniform)`\n",
        "\n",
        "`Yellow Lion: Hunk (Yellow Uniform)`\n",
        "\n",
        "`Green Lion: Pidge (Green Uniform)`\n",
        "\n",
        "`Red Lion: Lance (Blue Uniform)`\n",
        "\n",
        "`Black Lion: Keith (Red Uniform)`"
      ]
    },
    {
      "cell_type": "code",
      "execution_count": 93,
      "metadata": {
        "colab": {
          "base_uri": "https://localhost:8080/"
        },
        "id": "BfYvs-_T6NRT",
        "outputId": "3c265515-ea26-438d-b91a-d3b4f0d437bd"
      },
      "outputs": [
        {
          "output_type": "stream",
          "name": "stdout",
          "text": [
            "Blue Lion: Allura (Pink Uniform)\n",
            "\n",
            "Yellow Lion: Hunk (Yellow Uniform)\n",
            "\n",
            "Green Lion: Pidge (Green Uniform)\n",
            "\n",
            "Red Lion: Lance (Blue Uniform)\n",
            "\n",
            "Black Lion: Keith (Red Uniform)\n",
            "\n"
          ]
        }
      ],
      "source": [
        "# Your implementation:\n",
        "#Blue Lion: Allura (Pink Uniform)\n",
        "#Yellow Lion: Hunk (Yellow Uniform)\n",
        "#Green Lion: Pidge (Green Uniform)\n",
        "#Red Lion: Lance (Blue Uniform)\n",
        "#Black Lion: Keith (Red Uniform)\n",
        "for lion, info in lionsData.items():\n",
        "    print(f\"{lion} Lion: {info['name']} ({info['uniformColor']} Uniform)\\n\")"
      ]
    },
    {
      "cell_type": "markdown",
      "metadata": {
        "id": "S7sGe3Rm6NRT"
      },
      "source": [
        "**Action:** Lastly, use chain bracket syntax to print the value verifying the uniform color for the Blue Lion."
      ]
    },
    {
      "cell_type": "code",
      "execution_count": 94,
      "metadata": {
        "colab": {
          "base_uri": "https://localhost:8080/"
        },
        "id": "ULzQ9Otc6NRT",
        "outputId": "086b0d17-5746-442a-8613-28e6ca23a66c"
      },
      "outputs": [
        {
          "output_type": "stream",
          "name": "stdout",
          "text": [
            "The Blue Lion's uniform color is Pink.\n"
          ]
        }
      ],
      "source": [
        "# Your implementation:\n",
        "# use chain bracket syntax to print the value verifying the uniform color for the Blue Lion\n",
        "print (f\"The Blue Lion's uniform color is {lionsData[\"Blue\"][\"uniformColor\"]}.\")"
      ]
    },
    {
      "cell_type": "code",
      "execution_count": 94,
      "metadata": {
        "id": "gDjFKrGq6NRU"
      },
      "outputs": [],
      "source": []
    }
  ],
  "metadata": {
    "kernelspec": {
      "display_name": "Python [conda env:base] *",
      "language": "python",
      "name": "conda-base-py"
    },
    "language_info": {
      "codemirror_mode": {
        "name": "ipython",
        "version": 3
      },
      "file_extension": ".py",
      "mimetype": "text/x-python",
      "name": "python",
      "nbconvert_exporter": "python",
      "pygments_lexer": "ipython3",
      "version": "3.12.7"
    },
    "colab": {
      "provenance": []
    }
  },
  "nbformat": 4,
  "nbformat_minor": 0
}